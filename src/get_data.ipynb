{
 "cells": [
  {
   "cell_type": "code",
   "execution_count": null,
   "metadata": {},
   "outputs": [],
   "source": [
    "from platform import python_version\n",
    "print('Versão da Linguagem Python Usada Neste Jupyter Notebook:', python_version())"
   ]
  },
  {
   "cell_type": "markdown",
   "metadata": {},
   "source": [
    "## Importar bibliotecas"
   ]
  },
  {
   "cell_type": "code",
   "execution_count": null,
   "metadata": {},
   "outputs": [],
   "source": [
    "from datetime import datetime, timedelta\n",
    "\n",
    "import pandas as pd\n",
    "import numpy as np\n",
    "import requests as req\n",
    "import warnings"
   ]
  },
  {
   "cell_type": "code",
   "execution_count": null,
   "metadata": {},
   "outputs": [],
   "source": [
    "warnings.filterwarnings(\"ignore\", category=FutureWarning)\n",
    "warnings.filterwarnings(\"ignore\", category=DeprecationWarning)\n",
    "\n",
    "pd.set_option('mode.chained_assignment', None)"
   ]
  },
  {
   "cell_type": "markdown",
   "metadata": {},
   "source": [
    "## Data schema"
   ]
  },
  {
   "cell_type": "code",
   "execution_count": null,
   "metadata": {},
   "outputs": [],
   "source": [
    "categorical_selected_cols = ['origem', 'destino', 'metar', 'hora_ref', 'path', 'snapshot_radar']\n",
    "numerical_selected_cols = ['troca', 'esperas']\n",
    "\n",
    "selected_cols = categorical_selected_cols + numerical_selected_cols"
   ]
  },
  {
   "cell_type": "markdown",
   "metadata": {},
   "source": [
    "## Param default"
   ]
  },
  {
   "cell_type": "code",
   "execution_count": null,
   "metadata": {},
   "outputs": [],
   "source": [
    "paramsDefault = {\n",
    "    'idate': '2022-06-02', # Data inicial da consulta | Example : AAAA-MM-DD\n",
    "    'fdate': '2023-05-11' # Data final da consulta | Example : AAAA-MM-DD\n",
    "}"
   ]
  },
  {
   "cell_type": "markdown",
   "metadata": {},
   "source": [
    "## Funções auxiliares"
   ]
  },
  {
   "cell_type": "code",
   "execution_count": null,
   "metadata": {},
   "outputs": [],
   "source": [
    "def adjust_timestamp(ts):\n",
    "    timestamp_s = ts / 1000\n",
    "    dt = datetime.utcfromtimestamp(timestamp_s)\n",
    "    return dt.replace(minute=0, second=0, microsecond=0)\n",
    "\n",
    "def getData(route, paramsWithoutToken = paramsDefault, token = 'a779d04f85c4bf6cfa586d30aaec57c44e9b7173'):\n",
    "    \"\"\"\n",
    "    Fetches data from a specific API, handling exceptions and returning the data as a DataFrame.\n",
    "\n",
    "    :param route: String representing the API endpoint.\n",
    "    :param paramsWithoutToken: Dictionary containing the request parameters without the token. Defaults to paramsDefault.\n",
    "    :param token: String containing the authentication token. Defaults to a fixed token.\n",
    "    \n",
    "    :return: A pandas DataFrame containing the data fetched from the API.\n",
    "    \n",
    "    :raises: May propagate exceptions related to the request if they occur.\n",
    "    \"\"\"\n",
    "        \n",
    "    url = f'http://montreal.icea.decea.mil.br:5002/api/v1/{route}'\n",
    "    params = paramsWithoutToken\n",
    "    params['token'] = token\n",
    "    data = None\n",
    "    \n",
    "    while True:\n",
    "        try:\n",
    "            response = req.get(url, params)\n",
    "            response.raise_for_status()\n",
    "            data = response.json()\n",
    "            break\n",
    "            \n",
    "        except:\n",
    "            continue\n",
    "    \n",
    "    return pd.DataFrame(data)"
   ]
  },
  {
   "cell_type": "markdown",
   "metadata": {},
   "source": [
    "## BINTRA"
   ]
  },
  {
   "cell_type": "code",
   "execution_count": null,
   "metadata": {},
   "outputs": [],
   "source": [
    "def bimtra_ingestion():\n",
    "    # Obtendo dados da fonte 'bimtra'\n",
    "    df_bintra = getData('bimtra')\n",
    "\n",
    "    # Removendo linhas em que a origem é igual ao destino, pois não formam uma rota válida\n",
    "    df_bintra = df_bintra[df_bintra['origem'] != df_bintra['destino']]\n",
    "\n",
    "    # Criando uma coluna 'rota' concatenando origem e destino para identificar a rota\n",
    "    df_bintra['rota'] = df_bintra['origem'] + '_' + df_bintra['destino']\n",
    "\n",
    "    # Criando colunas 'dt_dep_timestamp' e 'dt_arr_timestamp' para armazenar as datas de partida e chegada em formato de timestamp\n",
    "    df_bintra['dt_dep_timestamp'] = df_bintra['dt_dep']\n",
    "    df_bintra['dt_arr_timestamp'] = df_bintra['dt_arr']\n",
    "\n",
    "    # Convertendo as colunas de timestamp em datetime\n",
    "    df_bintra['dt_dep'] = pd.to_datetime(df_bintra['dt_dep_timestamp'], unit='ms')\n",
    "    df_bintra['dt_arr'] = pd.to_datetime(df_bintra['dt_arr_timestamp'], unit='ms')\n",
    "\n",
    "    # Calculando a duração da viagem em segundos e armazenando na coluna 'duration'\n",
    "    df_bintra['duration'] = (df_bintra['dt_arr_timestamp'] - df_bintra['dt_dep_timestamp']) / 1000\n",
    "\n",
    "    return df_bintra\n",
    "\n",
    "# Obtendo dados da   fonte 'bimtra' e armazenando em df_bintra\n",
    "df_bintra = bimtra_ingestion()\n",
    "\n",
    "df_bintra.sample(3)"
   ]
  },
  {
   "cell_type": "markdown",
   "metadata": {},
   "source": [
    "## CAT-62"
   ]
  },
  {
   "cell_type": "code",
   "execution_count": null,
   "metadata": {},
   "outputs": [],
   "source": [
    "\n",
    "# Função para converter uma string de data e hora em timestamp Unix\n",
    "def string_to_timestamp(datetime_str):\n",
    "    \"\"\"\n",
    "    Converte uma string de data e hora no formato 'YYYY-MM-DD HH:mm:ss.SSS' em timestamp Unix.\n",
    "    \n",
    "    Parâmetros:\n",
    "        datetime_str (str): String de data e hora no formato 'YYYY-MM-DD HH:mm:ss.SSS'.\n",
    "        \n",
    "    Retorna:\n",
    "        int: Timestamp Unix.\n",
    "    \"\"\"\n",
    "    dt_obj = datetime.strptime(datetime_str, '%Y-%m-%d %H:%M:%S.%f')\n",
    "    timestamp = int(dt_obj.timestamp())\n",
    "    return timestamp\n",
    "\n",
    "# Função para converter um timestamp Unix em uma string de data e hora\n",
    "def timestamp_to_string(timestamp):\n",
    "    \"\"\"\n",
    "    Converte um timestamp Unix em uma string de data e hora no formato 'YYYY-MM-DD HH:mm:ss.SSS'.\n",
    "    \n",
    "    Parâmetros:\n",
    "        timestamp (int): Timestamp Unix.\n",
    "        \n",
    "    Retorna:\n",
    "        str: String de data e hora no formato 'YYYY-MM-DD HH:mm:ss.SSS'.\n",
    "    \"\"\"\n",
    "    dt_obj = datetime.fromtimestamp(timestamp)\n",
    "    datetime_str = dt_obj.strftime('%Y-%m-%d %H:%M:%S.%f')\n",
    "    return datetime_str\n",
    "\n",
    "# Função para ingestão e processamento de dados da fonte 'cat-62'\n",
    "def cat62_ingestion(start_timestamp, end_timestamp, step):\n",
    "    \"\"\"\n",
    "    Obtém e processa os dados da fonte 'cat-62' dentro do intervalo de tempo especificado.\n",
    "\n",
    "    Parâmetros:\n",
    "        start_timestamp (int): Timestamp de início do intervalo.\n",
    "        end_timestamp (int): Timestamp de término do intervalo.\n",
    "        step (int): Passo de tempo em segundos.\n",
    "        \n",
    "    Retorna:\n",
    "        DataFrame: DataFrame contendo as coordenadas do radar para cada voo.\n",
    "    \"\"\"\n",
    "    df_cat_62_blocks = []\n",
    "    for timestamp in range(start_timestamp, end_timestamp, step):\n",
    "        dt_i = timestamp_to_string(timestamp)\n",
    "        dt_f = timestamp_to_string(timestamp + step)\n",
    "        print(dt_i)\n",
    "        aux = getData('cat-62', {'idate': dt_i, 'fdate': dt_f})\n",
    "        if len(aux) != 0:\n",
    "            df_cat_62_blocks.append(aux)\n",
    "    \n",
    "    if df_cat_62_blocks:\n",
    "        df_cat_62 = pd.concat(df_cat_62_blocks, ignore_index=True)\n",
    "        return generate_snapshot_radar(df_cat_62)\n",
    "    else:\n",
    "        return pd.DataFrame(columns=['snapshot_radar', 'flightid'])\n",
    "\n",
    "# Função para gerar as coordenadas do radar para cada voo\n",
    "def generate_snapshot_radar(df):\n",
    "    \"\"\"\n",
    "    Gera as coordenadas do radar para cada voo e armazena em um DataFrame.\n",
    "    \n",
    "    Parâmetros:\n",
    "        df (DataFrame): DataFrame contendo os dados dos voos.\n",
    "        \n",
    "    Retorna:\n",
    "        DataFrame: DataFrame com as coordenadas do radar para cada voo.\n",
    "    \"\"\"\n",
    "    df_snapshot_radar = pd.DataFrame(columns=['snapshot_radar'])\n",
    "    df_snapshot_radar.index.name = 'flightid'\n",
    "\n",
    "    for flight in df['flightid'].unique():\n",
    "        coords = \"MULTIPOINT (\"\n",
    "        erase_comma = False\n",
    "        for index, row in df[df['flightid'] == flight].iterrows():\n",
    "            coords += f\"({row['lon']} {row['lat']})\"\n",
    "            coords += ', '\n",
    "            erase_comma = True\n",
    "        if erase_comma:\n",
    "            coords = coords[:-2]\n",
    "        coords += \")\"\n",
    "        df_snapshot_radar.loc[flight, 'snapshot_radar'] = coords\n",
    "        \n",
    "    return df_snapshot_radar.reset_index()\n",
    "\n",
    "# Definição dos timestamps de início e fim do intervalo e passo de tempo\n",
    "start_timestamp = string_to_timestamp('2023-03-01 00:00:00.000')\n",
    "end_timestamp = string_to_timestamp('2024-03-21 00:00:00.000')\n",
    "step = 60 * 60 * 24\n",
    "\n",
    "# Obtém os dados da fonte 'cat-62' e gera as coordenadas do radar para cada voo\n",
    "df_snapshot_radar = cat62_ingestion(start_timestamp, end_timestamp, step)\n",
    "\n",
    "# Exibe uma amostra dos dados do radar\n",
    "df_snapshot_radar.sample(3)"
   ]
  },
  {
   "cell_type": "code",
   "execution_count": null,
   "metadata": {},
   "outputs": [],
   "source": [
    "df_snapshot_radar.to_csv('../data/cat_62.csv', index=False)"
   ]
  },
  {
   "cell_type": "markdown",
   "metadata": {},
   "source": [
    "## ESPERAS"
   ]
  },
  {
   "cell_type": "code",
   "execution_count": null,
   "metadata": {},
   "outputs": [],
   "source": [
    "def esperas_ingestion():\n",
    "    df_esperas = getData('esperas')\n",
    "    df_esperas['hora_esperas'] = pd.to_datetime(df_esperas['hora'], unit='ms')\n",
    "    df_esperas['destino'] = df_esperas['aero']\n",
    "    df_esperas.drop(['hora', 'aero'], axis =1, inplace = True)\n",
    "    \n",
    "    return df_esperas\n",
    "\n",
    "df_esperas = esperas_ingestion()\n",
    "df_esperas.sample(3)"
   ]
  },
  {
   "cell_type": "markdown",
   "metadata": {},
   "source": [
    "## METAF"
   ]
  },
  {
   "cell_type": "code",
   "execution_count": null,
   "metadata": {},
   "outputs": [],
   "source": [
    "def metaf_ingestion():\n",
    "    df_metaf = getData('metaf')\n",
    "    df_metaf['hora_metaf'] = pd.to_datetime(df_metaf['hora'], unit='ms')\n",
    "    df_metaf['aero_metaf'] = df_metaf['aero']\n",
    "    df_metaf.drop(['hora', 'aero'], axis =1, inplace = True)\n",
    "\n",
    "    return df_metaf\n",
    "\n",
    "df_metaf = metaf_ingestion()\n",
    "df_metaf.sample(3)"
   ]
  },
  {
   "cell_type": "markdown",
   "metadata": {},
   "source": [
    "## METAR"
   ]
  },
  {
   "cell_type": "code",
   "execution_count": null,
   "metadata": {},
   "outputs": [],
   "source": [
    "def metar_ingestion():\n",
    "    df_metar = getData('metar')\n",
    "    df_metar['hora_metar'] = pd.to_datetime(df_metar['hora'], unit='ms')\n",
    "    df_metar['aero_metar'] = df_metar['aero']\n",
    "    df_metar.drop(['hora', 'aero'], axis =1, inplace = True)\n",
    "\n",
    "    return df_metar\n",
    "\n",
    "metar_df = metar_ingestion()\n",
    "metar_df.sample(3)"
   ]
  },
  {
   "cell_type": "markdown",
   "metadata": {},
   "source": [
    "# SATELITE"
   ]
  },
  {
   "cell_type": "code",
   "execution_count": null,
   "metadata": {},
   "outputs": [],
   "source": [
    "def satelite_ingestion():\n",
    "    df_sat_met = getData('satelite')\n",
    "    df_sat_met['hora_ref'] = pd.to_datetime(df_sat_met['data'])\n",
    "    df_sat_met.drop(['data'], axis = 1, inplace = True)\n",
    "\n",
    "    return df_sat_met\n",
    "\n",
    "df_sat_met = satelite_ingestion()\n",
    "df_sat_met.sample(3)"
   ]
  },
  {
   "cell_type": "markdown",
   "metadata": {},
   "source": [
    "## TC-PREV"
   ]
  },
  {
   "cell_type": "code",
   "execution_count": null,
   "metadata": {},
   "outputs": [],
   "source": [
    "def tcp_ingestion():\n",
    "    df_tcp = getData('tc-prev')\n",
    "    df_tcp['hora_tcp'] = pd.to_datetime(df_tcp['hora'], unit='ms')\n",
    "    df_tcp['aero_tcp'] = 'SB' + df_tcp['aero']\n",
    "    df_tcp.drop(['hora', 'aero'], axis =1, inplace = True)\n",
    "\n",
    "    return df_tcp\n",
    "\n",
    "df_tcp = tcp_ingestion()\n",
    "df_tcp.sample(3)"
   ]
  },
  {
   "cell_type": "markdown",
   "metadata": {},
   "source": [
    "## TC-REAL"
   ]
  },
  {
   "cell_type": "code",
   "execution_count": null,
   "metadata": {},
   "outputs": [],
   "source": [
    "def tcr_ingestion():\n",
    "    df_tcr = getData('tc-real')\n",
    "    df_tcr['aero_tcr'] = 'SB' + df_tcr['aero']\n",
    "    df_tcr['hora_tcr'] = df_tcr['hora'].apply(adjust_timestamp)\n",
    "    aux = df_tcr.groupby(['hora_tcr', 'aero_tcr']).agg({'aero': ['count']}).reset_index()\n",
    "    aux.columns = aux.columns.droplevel(1)\n",
    "    aux['troca_real'] = aux['aero']\n",
    "    df_tcr = aux.drop(['aero'], axis =1)\n",
    "\n",
    "    return df_tcr\n",
    "\n",
    "df_tcr = tcr_ingestion()\n",
    "df_tcr.sample(3)"
   ]
  },
  {
   "cell_type": "markdown",
   "metadata": {},
   "source": [
    "## JOIN"
   ]
  },
  {
   "cell_type": "code",
   "execution_count": null,
   "metadata": {},
   "outputs": [],
   "source": [
    "def join_dataframes:\n",
    "    df_bintra['hora_ref'] = df_bintra['dt_dep_timestamp'].apply(adjust_timestamp)\n",
    "    df_bintra['hora_esperas'] = df_bintra['hora_ref'] - timedelta(hours=1)\n",
    "    df_bintra['aero_esperas'] = df_bintra['destino']\n",
    "    df_bintra['aero_metaf'] = df_bintra['destino']\n",
    "    df_bintra['hora_metaf'] = df_bintra['hora_ref'] + timedelta(hours=1)\n",
    "    df_bintra['aero_metar'] = df_bintra['destino']\n",
    "    df_bintra['hora_metar'] = df_bintra['hora_ref']\n",
    "    df_bintra['hora_tcp'] = df_bintra['hora_ref'] + timedelta(hours=1)\n",
    "    df_bintra['aero_tcp'] = df_bintra['destino']\n",
    "    df_bintra['hora_tcr'] = df_bintra['hora_ref']\n",
    "    df_bintra['aero_tcr'] = df_bintra['destino']\n",
    "\n",
    "\n",
    "    merged1_satelite = df_bintra.merge(df_sat_met, on='hora_ref', how='left')\n",
    "    merged2_esperas = merged1_satelite.merge(df_esperas, on=['hora_esperas', 'destino'], how='left')\n",
    "    merged3_metaf = merged2_esperas.merge(df_metaf, on=['hora_metaf', 'aero_metaf'], how='left')\n",
    "    merged4_metar = merged3_metaf.merge(df_metar, on=['hora_metar', 'aero_metar'], how='left')\n",
    "    merged5_tcp = merged4_metar.merge(df_tcp, on=['hora_tcp', 'aero_tcp'], how='left')\n",
    "    merged6_tcr = merged5_tcp.merge(df_tcr, on=['hora_tcr', 'aero_tcr'], how='left').set_index('flightid')\n",
    "    merged7_cat = merged6_tcr.merge(df_cat_62, on=['flightid'], how='left').set_index('flightid')\n",
    "    data_train_origin = merged7_cat[\n",
    "        ['origem', 'destino', 'metar', 'snapshot_radar','hora_ref', 'path', 'troca', 'esperas', 'duration']\n",
    "    ]\n",
    "\n",
    "    data_train_origin.loc[:, 'hora_ref'] = data_train_origin['hora_ref'].astype('str')\n",
    "\n",
    "    data_train_origin.dropna(inplace=True)\n",
    "\n",
    "    del df_bintra\n",
    "    del merged1_satelite\n",
    "    del merged2_esperas\n",
    "    del merged3_metaf\n",
    "    del merged4_metar\n",
    "    del merged5_tcp\n",
    "    del merged6_tcr\n",
    "    del merged7_cat\n",
    "\n",
    "    data_train_origin.to_csv('../data/data_train_origin.csv', index=True)\n",
    "\n",
    "\n",
    "data_train = join_dataframes()\n",
    "data_train.sample(3)\n"
   ]
  },
  {
   "cell_type": "code",
   "execution_count": null,
   "metadata": {},
   "outputs": [],
   "source": [
    "data_train_origin.to_csv('../data/data_train_origin.csv', index=True)"
   ]
  }
 ],
 "metadata": {
  "kernelspec": {
   "display_name": "Python 3",
   "language": "python",
   "name": "python3"
  },
  "language_info": {
   "codemirror_mode": {
    "name": "ipython",
    "version": 3
   },
   "file_extension": ".py",
   "mimetype": "text/x-python",
   "name": "python",
   "nbconvert_exporter": "python",
   "pygments_lexer": "ipython3",
   "version": "3.9.4"
  }
 },
 "nbformat": 4,
 "nbformat_minor": 2
}
